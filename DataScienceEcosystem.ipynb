{
 "cells": [
  {
   "cell_type": "markdown",
   "id": "135e9bc8-0db2-4490-b9f4-15bfda16aa37",
   "metadata": {
    "tags": [],
    "toc-hr-collapsed": true
   },
   "source": [
    "# Data Science Tools and Ecosystem"
   ]
  },
  {
   "cell_type": "markdown",
   "id": "93150be3-f0fb-4ec5-8c34-f7bc9a379747",
   "metadata": {},
   "source": [
    "In this notebook, Data Science Tools and Ecosystem are summarized."
   ]
  },
  {
   "cell_type": "markdown",
   "id": "1c533e83-1172-4714-892a-2a54bf1a2c54",
   "metadata": {},
   "source": [
    "Some of the popular languages that Data Scientists use are:\n",
    "1. python\n",
    "2. r\n",
    "3. javascript\n"
   ]
  },
  {
   "cell_type": "markdown",
   "id": "790531cd-0fed-4e5d-b8ad-d41b4585b3eb",
   "metadata": {},
   "source": [
    "Some of the commonly used libraries used by Data Scientists include:\n",
    "\n",
    "1. pandas\n",
    "2. numpy\n",
    "3. matplot"
   ]
  },
  {
   "cell_type": "markdown",
   "id": "87b91435-2bf5-4e13-8e85-22e3ed6b4386",
   "metadata": {},
   "source": [
    "| Data Science Tools |\n",
    "|-------------------|\n",
    "| Jupyter Notebook  |\n",
    "| RStudio           |\n",
    "| VS Code           |\n"
   ]
  },
  {
   "cell_type": "markdown",
   "id": "813c6583-11d9-43bd-8441-33d9bcd3095d",
   "metadata": {},
   "source": [
    "### Below are a few examples of evaluating arithmetic expressions in Python\n",
    "\n",
    "Arithmetic expressions in Python involve various mathematical operations that can be performed using basic arithmetic operators. Here are some examples:\n",
    "\n"
   ]
  },
  {
   "cell_type": "code",
   "execution_count": null,
   "id": "92e26f18-e788-41b9-9ceb-6626d845b02a",
   "metadata": {},
   "outputs": [],
   "source": []
  },
  {
   "cell_type": "code",
   "execution_count": 1,
   "id": "622be7e1-b86d-4d69-84e0-629524f0e306",
   "metadata": {
    "tags": []
   },
   "outputs": [
    {
     "name": "stdout",
     "output_type": "stream",
     "text": [
      "17\n"
     ]
    }
   ],
   "source": [
    "# This is a simple arithmetic expression to multiply then add integers.\n",
    "result = (3 * 4) + 5\n",
    "print(result)\n"
   ]
  },
  {
   "cell_type": "code",
   "execution_count": 2,
   "id": "a2edaa5b-22b5-4308-a36e-41ac3271ea54",
   "metadata": {
    "tags": []
   },
   "outputs": [
    {
     "name": "stdout",
     "output_type": "stream",
     "text": [
      "3.3333333333333335\n"
     ]
    }
   ],
   "source": [
    "# This will convert 200 minutes to hours by dividing by 60.\n",
    "minutes = 200\n",
    "hours = minutes / 60\n",
    "print(hours)\n"
   ]
  },
  {
   "cell_type": "markdown",
   "id": "5c5fd90e-c9d8-43db-a237-1731c87a2d31",
   "metadata": {},
   "source": [
    "**Objectives:**\n",
    "\n",
    "- List popular languages for Data Science.\n",
    "- Understand the basics of Jupyter Notebook and its usage in Data Science.\n",
    "- Introduce common data manipulation libraries like Pandas.\n",
    "- Demonstrate how to create visualizations using Matplotlib and Seaborn.\n",
    "- Provide an overview of fundamental machine learning algorithms.\n",
    "\n",
    "Feel free to review these objectives as a quick summary of the key takeaways from this notebook.\n"
   ]
  },
  {
   "cell_type": "markdown",
   "id": "1d90909f-a2a4-49fa-9b61-ee5a19fa3373",
   "metadata": {},
   "source": [
    "## Author\n",
    "\n",
    "Angel Zambrano\n"
   ]
  },
  {
   "cell_type": "code",
   "execution_count": null,
   "id": "3dbeab3b-8a4f-4f14-93c4-e2509665ce00",
   "metadata": {},
   "outputs": [],
   "source": []
  }
 ],
 "metadata": {
  "kernelspec": {
   "display_name": "Python",
   "language": "python",
   "name": "conda-env-python-py"
  },
  "language_info": {
   "codemirror_mode": {
    "name": "ipython",
    "version": 3
   },
   "file_extension": ".py",
   "mimetype": "text/x-python",
   "name": "python",
   "nbconvert_exporter": "python",
   "pygments_lexer": "ipython3",
   "version": "3.7.12"
  }
 },
 "nbformat": 4,
 "nbformat_minor": 5
}
